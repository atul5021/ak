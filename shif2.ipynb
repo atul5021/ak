{
 "cells": [
  {
   "cell_type": "code",
   "execution_count": 1,
   "id": "d8bcaef2",
   "metadata": {},
   "outputs": [
    {
     "name": "stdout",
     "output_type": "stream",
     "text": [
      "Enter the cipher text :atul yadav ak\n",
      "With key = 25 HABSUFHKHCUHR\n"
     ]
    }
   ],
   "source": [
    "def shift():\n",
    "    cipher_text=input(\"Enter the cipher text :\")\n",
    "    \n",
    "    for k in range(26):\n",
    "        plain_text=\"\"\n",
    "        \n",
    "    for letter in cipher_text:\n",
    "        if letter=='':\n",
    "            plain_text+=letter\n",
    "        \n",
    "        else:\n",
    "            c=ord(letter)-65\n",
    "            e=(c-k)%26\n",
    "            plain_text+=chr(e+65)\n",
    "            \n",
    "            \n",
    "    print(\"With key =\",k,plain_text)\n",
    "\n",
    "shift()"
   ]
  },
  {
   "cell_type": "code",
   "execution_count": null,
   "id": "e91805b0",
   "metadata": {},
   "outputs": [],
   "source": []
  }
 ],
 "metadata": {
  "kernelspec": {
   "display_name": "Python 3 (ipykernel)",
   "language": "python",
   "name": "python3"
  },
  "language_info": {
   "codemirror_mode": {
    "name": "ipython",
    "version": 3
   },
   "file_extension": ".py",
   "mimetype": "text/x-python",
   "name": "python",
   "nbconvert_exporter": "python",
   "pygments_lexer": "ipython3",
   "version": "3.11.5"
  }
 },
 "nbformat": 4,
 "nbformat_minor": 5
}
