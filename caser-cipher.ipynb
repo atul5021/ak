{
 "cells": [
  {
   "cell_type": "code",
   "execution_count": null,
   "id": "3664a68e",
   "metadata": {},
   "outputs": [],
   "source": [
    "# Shift Cipher "
   ]
  },
  {
   "cell_type": "code",
   "execution_count": 4,
   "id": "aa187a88",
   "metadata": {},
   "outputs": [
    {
     "name": "stdout",
     "output_type": "stream",
     "text": [
      "Enter the plain text to be Encrypted: atul\n",
      "Enter the key for shift cipher: 4\n",
      "Encrypted Text: exyp\n",
      "Decrypted text: atul\n"
     ]
    }
   ],
   "source": [
    "def encrypt_word(plain_text, key):\n",
    "    cipher_text = \"\"\n",
    "\n",
    "    for word in plain_text:\n",
    "        for i in word:\n",
    "            if i.isupper():\n",
    "                val = ord(i) - 65\n",
    "                enc_word = chr(65 + (val + key) % 26)\n",
    "            else:\n",
    "                val = ord(i) - 97\n",
    "                enc_word = chr(97 + (val + key) % 26)\n",
    "\n",
    "            cipher_text += enc_word\n",
    "\n",
    "    print('Encrypted Text:', cipher_text)\n",
    "    return cipher_text\n",
    "\n",
    "def decrypt_word(cipher_text, key):\n",
    "    plain_text = \"\"\n",
    "\n",
    "    for word in cipher_text:\n",
    "        for i in word:\n",
    "            if i.isupper():\n",
    "                val = ord(i) - 65\n",
    "                enc_word = chr(65 + (val - key) % 26)\n",
    "            else:\n",
    "                val = ord(i) - 97\n",
    "                enc_word = chr(97 + (val - key) % 26)\n",
    "\n",
    "            plain_text += enc_word\n",
    "\n",
    "    print(\"Decrypted text:\", plain_text)\n",
    "\n",
    "plain_text = input(\"Enter the plain text to be Encrypted: \").split()\n",
    "key = int(input(\"Enter the key for shift cipher: \"))\n",
    "\n",
    "cipher_text = encrypt_word(plain_text, key)\n",
    "decrypt_word(cipher_text, key)\n"
   ]
  },
  {
   "cell_type": "code",
   "execution_count": null,
   "id": "30f24088",
   "metadata": {},
   "outputs": [],
   "source": [
    "## Ceaser cipher\n"
   ]
  },
  {
   "cell_type": "code",
   "execution_count": 5,
   "id": "b735595c",
   "metadata": {},
   "outputs": [
    {
     "name": "stdout",
     "output_type": "stream",
     "text": [
      "Enter the plain text for encryption :atul\n",
      "Enter the key for shift cipher :4\n",
      "Encypted text : exyp\n",
      "Decrypted text : atul\n"
     ]
    }
   ],
   "source": [
    "def encry(plain_text,key):\n",
    "    \n",
    "    cipher_text=\"\"\n",
    "    \n",
    "    for letter in plain_text:\n",
    "        for i in letter:\n",
    "            \n",
    "            if i.isupper():\n",
    "                val=ord(i)-65\n",
    "                enc_word=chr(65+(val+key)%26)\n",
    "            else:\n",
    "                \n",
    "                val=ord(i)-97\n",
    "                enc_word=chr(97+(val+key)%26)\n",
    "            \n",
    "            cipher_text+=enc_word\n",
    "            \n",
    "    print(\"Encypted text :\", cipher_text)\n",
    "    return cipher_text\n",
    "\n",
    "def decrypt(cipher_text,key):\n",
    "    \n",
    "    plain_text=\"\"\n",
    "    \n",
    "    for letter in cipher_text:\n",
    "        for i in letter:\n",
    "            \n",
    "            if i.isupper():\n",
    "                val=ord(i)-65\n",
    "                enc_word=chr(65+(val-key)%26)\n",
    "                \n",
    "            else:\n",
    "                val=ord(i)-97\n",
    "                enc_word=chr(97+(val-key)%26)\n",
    "                \n",
    "            plain_text+=enc_word\n",
    "            \n",
    "    print(\"Decrypted text :\", plain_text)\n",
    "    \n",
    "## call function\n",
    "\n",
    "\n",
    "plain_text=input(\"Enter the plain text for encryption :\").split()\n",
    "key=int(input(\"Enter the key for shift cipher :\"))\n",
    "    \n",
    "cipher_text=encry(plain_text,key)\n",
    "decrypt(cipher_text,key)\n",
    "                \n",
    "    \n",
    "                \n",
    "        \n",
    "                "
   ]
  },
  {
   "cell_type": "code",
   "execution_count": null,
   "id": "f9c55b57",
   "metadata": {},
   "outputs": [],
   "source": []
  }
 ],
 "metadata": {
  "kernelspec": {
   "display_name": "Python 3 (ipykernel)",
   "language": "python",
   "name": "python3"
  },
  "language_info": {
   "codemirror_mode": {
    "name": "ipython",
    "version": 3
   },
   "file_extension": ".py",
   "mimetype": "text/x-python",
   "name": "python",
   "nbconvert_exporter": "python",
   "pygments_lexer": "ipython3",
   "version": "3.11.5"
  }
 },
 "nbformat": 4,
 "nbformat_minor": 5
}
